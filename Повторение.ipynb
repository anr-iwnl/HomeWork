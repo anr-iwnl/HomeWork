{
  "nbformat": 4,
  "nbformat_minor": 0,
  "metadata": {
    "colab": {
      "provenance": [],
      "authorship_tag": "ABX9TyPH3GQN9In1LhBs/mmud510",
      "include_colab_link": true
    },
    "kernelspec": {
      "name": "python3",
      "display_name": "Python 3"
    },
    "language_info": {
      "name": "python"
    }
  },
  "cells": [
    {
      "cell_type": "markdown",
      "metadata": {
        "id": "view-in-github",
        "colab_type": "text"
      },
      "source": [
        "<a href=\"https://colab.research.google.com/github/anr-iwnl/HomeWork/blob/main/%D0%9F%D0%BE%D0%B2%D1%82%D0%BE%D1%80%D0%B5%D0%BD%D0%B8%D0%B5.ipynb\" target=\"_parent\"><img src=\"https://colab.research.google.com/assets/colab-badge.svg\" alt=\"Open In Colab\"/></a>"
      ]
    },
    {
      "cell_type": "markdown",
      "source": [
        "**Раздел Begin 1-5**"
      ],
      "metadata": {
        "id": "jXCzytrNbqLL"
      }
    },
    {
      "cell_type": "markdown",
      "source": [
        "Begin1. Дана сторона квадрата a. Найти его периметр P = 4·a."
      ],
      "metadata": {
        "id": "bSficgMzqKKJ"
      }
    },
    {
      "cell_type": "code",
      "source": [
        "a=float(input())\n",
        "P=4*a\n",
        "print(P)"
      ],
      "metadata": {
        "colab": {
          "base_uri": "https://localhost:8080/"
        },
        "id": "M1_YFpctbyxg",
        "outputId": "a0761e1f-5a89-4ef7-a0d8-2ba8716ed64a"
      },
      "execution_count": 17,
      "outputs": [
        {
          "output_type": "stream",
          "name": "stdout",
          "text": [
            "7\n",
            "28.0\n"
          ]
        }
      ]
    },
    {
      "cell_type": "markdown",
      "source": [
        "Begin2. Дана сторона квадрата a. Найти его площадь S = a2."
      ],
      "metadata": {
        "id": "PsPlepsLqLqn"
      }
    },
    {
      "cell_type": "code",
      "source": [
        "a=float(input())\n",
        "S=a**2\n",
        "print(S)"
      ],
      "metadata": {
        "colab": {
          "base_uri": "https://localhost:8080/"
        },
        "id": "l3OpWIiWb5E_",
        "outputId": "c3c74f19-f269-4b86-da0c-c931728e8137"
      },
      "execution_count": 11,
      "outputs": [
        {
          "output_type": "stream",
          "name": "stdout",
          "text": [
            "6\n",
            "36.0\n"
          ]
        }
      ]
    },
    {
      "cell_type": "markdown",
      "source": [
        "Begin3. Даны стороны прямоугольника a и b. Найти его площадь S = a·b и периметр P = 2·(a + b).\n"
      ],
      "metadata": {
        "id": "2WBpE_p9qPLS"
      }
    },
    {
      "cell_type": "code",
      "source": [
        "a=float(input())\n",
        "b=float(input())\n",
        "S=a*b\n",
        "P=2*(a+b)\n",
        "print(S)\n",
        "print(P)"
      ],
      "metadata": {
        "colab": {
          "base_uri": "https://localhost:8080/"
        },
        "id": "YfSpoQ8hb9lj",
        "outputId": "99239ddf-029c-407a-a308-c569898fd607"
      },
      "execution_count": 12,
      "outputs": [
        {
          "output_type": "stream",
          "name": "stdout",
          "text": [
            "14\n",
            "11\n",
            "154.0\n",
            "50.0\n"
          ]
        }
      ]
    },
    {
      "cell_type": "markdown",
      "source": [
        "Begin4. Дан диаметр окружности d. Найти ее длину L = ·d. В качестве значе- ния  использовать 3.14.\n"
      ],
      "metadata": {
        "id": "3ML3N6wfqRED"
      }
    },
    {
      "cell_type": "code",
      "source": [
        "d=float(input())\n",
        "L=3,14*d\n",
        "print(L)"
      ],
      "metadata": {
        "colab": {
          "base_uri": "https://localhost:8080/"
        },
        "id": "NTKtKtrCcACS",
        "outputId": "95674bf4-c0b4-4285-e15f-31ed594313c7"
      },
      "execution_count": 13,
      "outputs": [
        {
          "output_type": "stream",
          "name": "stdout",
          "text": [
            "9\n",
            "(3, 126.0)\n"
          ]
        }
      ]
    },
    {
      "cell_type": "markdown",
      "source": [
        "Begin5. Дана длина ребра куба a. Найти объем куба V = a3 и площадь его по- верхности S = 6·a2.\n"
      ],
      "metadata": {
        "id": "if12Qu4TqTE1"
      }
    },
    {
      "cell_type": "code",
      "source": [
        "a=float(input())\n",
        "V=a**3\n",
        "S=6*a**2\n",
        "print(V)\n",
        "print(S)"
      ],
      "metadata": {
        "colab": {
          "base_uri": "https://localhost:8080/"
        },
        "id": "8bZiYpkOcChd",
        "outputId": "41e05ad5-c698-4818-982b-21a4b2504c4d"
      },
      "execution_count": 14,
      "outputs": [
        {
          "output_type": "stream",
          "name": "stdout",
          "text": [
            "31\n",
            "29791.0\n",
            "5766.0\n"
          ]
        }
      ]
    },
    {
      "cell_type": "markdown",
      "source": [
        "**Раздел Integer**"
      ],
      "metadata": {
        "id": "dm3X6OY_cIF1"
      }
    },
    {
      "cell_type": "markdown",
      "source": [
        "Integer3. Дан размер файла в байтах. Используя операцию деления нацело, найти количество полных килобайтов, которые занимает данный файл (1 килобайт = 1024 байта).\n"
      ],
      "metadata": {
        "id": "R62eZ-7Fqf6z"
      }
    },
    {
      "cell_type": "code",
      "source": [
        "B=int(input())\n",
        "KB= B // 1024\n",
        "print(KB)"
      ],
      "metadata": {
        "colab": {
          "base_uri": "https://localhost:8080/"
        },
        "id": "Z-_vSeHLcFW-",
        "outputId": "7a0195fd-ec85-4f41-ca6c-3b24d3654e23"
      },
      "execution_count": 23,
      "outputs": [
        {
          "output_type": "stream",
          "name": "stdout",
          "text": [
            "1000000\n",
            "976\n"
          ]
        }
      ]
    },
    {
      "cell_type": "markdown",
      "source": [
        "Integer7. Дано двузначное число. Найти сумму и произведение его цифр.\n"
      ],
      "metadata": {
        "id": "jkBlAzyBqhP6"
      }
    },
    {
      "cell_type": "code",
      "source": [
        "n = int(input())\n",
        "a = n // 10\n",
        "b = n % 10\n",
        "S = a + b\n",
        "P = a * b\n",
        "print(S, P)"
      ],
      "metadata": {
        "colab": {
          "base_uri": "https://localhost:8080/"
        },
        "id": "kkqvTMCAe6xx",
        "outputId": "354eead9-525c-4775-8fde-c1429b713030"
      },
      "execution_count": 25,
      "outputs": [
        {
          "output_type": "stream",
          "name": "stdout",
          "text": [
            "77\n",
            "14 49\n"
          ]
        }
      ]
    },
    {
      "cell_type": "markdown",
      "source": [
        "Integer22. С начала суток прошло N секунд (N — целое). Найти количество се- кунд, прошедших с начала последнего часа.\n"
      ],
      "metadata": {
        "id": "NrAdYMvorjQb"
      }
    },
    {
      "cell_type": "code",
      "source": [
        "N = int(input())\n",
        "Sec = N % 3600\n",
        "print(Sec)"
      ],
      "metadata": {
        "colab": {
          "base_uri": "https://localhost:8080/"
        },
        "id": "P0EAAG-6gBfi",
        "outputId": "96934766-0a79-4ef9-84d0-5d07879f70ff"
      },
      "execution_count": 36,
      "outputs": [
        {
          "output_type": "stream",
          "name": "stdout",
          "text": [
            "3601\n",
            "1\n"
          ]
        }
      ]
    },
    {
      "cell_type": "markdown",
      "source": [
        "Integer24. Дни недели пронумерованы следующим образом: 0 — воскресенье, 1 — понедельник, 2 — вторник, …, 6 — суббота. Дано целое число K, ле- жащее в диапазоне 1–365. Определить номер дня недели для K-го дня года, если известно, что в этом году 1 января было понедельником."
      ],
      "metadata": {
        "id": "d-DBQlugrsFh"
      }
    },
    {
      "cell_type": "code",
      "source": [
        "K = int(input())\n",
        "d = (K + 6) % 7\n",
        "print(d)"
      ],
      "metadata": {
        "colab": {
          "base_uri": "https://localhost:8080/"
        },
        "id": "xvJpxvuphP2I",
        "outputId": "e6f89276-0198-4247-f93c-3e2647ae75e4"
      },
      "execution_count": 64,
      "outputs": [
        {
          "output_type": "stream",
          "name": "stdout",
          "text": [
            "144\n",
            "3\n"
          ]
        }
      ]
    },
    {
      "cell_type": "markdown",
      "source": [
        "Дан номер некоторого года (целое положительное число). Опреде- лить соответствующий ему номер столетия, учитывая, что, к примеру, на- чалом 20 столетия был 1901 год.\n"
      ],
      "metadata": {
        "id": "1h_xT7wVr6dz"
      }
    },
    {
      "cell_type": "code",
      "source": [
        "y = int(input())\n",
        "c = (y + 99) // 100\n",
        "print(c)"
      ],
      "metadata": {
        "colab": {
          "base_uri": "https://localhost:8080/"
        },
        "id": "xXS9Ytlvhf5i",
        "outputId": "f2044257-29bd-4441-f181-b82d779f1f7d"
      },
      "execution_count": 38,
      "outputs": [
        {
          "output_type": "stream",
          "name": "stdout",
          "text": [
            "121\n",
            "2\n"
          ]
        }
      ]
    },
    {
      "cell_type": "markdown",
      "source": [
        "**Раздел Boolean**"
      ],
      "metadata": {
        "id": "px9JavcyiHeQ"
      }
    },
    {
      "cell_type": "markdown",
      "source": [
        "Boolean1. Дано целое число A. Проверить истинность высказывания: «Число\n",
        "A является положительным».\n"
      ],
      "metadata": {
        "id": "tcOnXCTws-jg"
      }
    },
    {
      "cell_type": "code",
      "source": [
        "A = int(input())\n",
        "print(A > 0)"
      ],
      "metadata": {
        "colab": {
          "base_uri": "https://localhost:8080/"
        },
        "id": "S9Vxv7RpstB1",
        "outputId": "a64b1563-1628-4ca9-ef12-03398c735be3"
      },
      "execution_count": 65,
      "outputs": [
        {
          "output_type": "stream",
          "name": "stdout",
          "text": [
            "1\n",
            "True\n"
          ]
        }
      ]
    },
    {
      "cell_type": "markdown",
      "source": [
        "Boolean2. Дано целое число A. Проверить истинность высказывания: «Число A\n",
        "является нечетным»."
      ],
      "metadata": {
        "id": "j3_LBA6rtEd2"
      }
    },
    {
      "cell_type": "code",
      "source": [
        "A = int(input())\n",
        "print(A % 2 != 0)"
      ],
      "metadata": {
        "colab": {
          "base_uri": "https://localhost:8080/"
        },
        "id": "MSORTfeTsyVP",
        "outputId": "24695fa3-d4bc-45b4-d100-3c47a8cb20e4"
      },
      "execution_count": 66,
      "outputs": [
        {
          "output_type": "stream",
          "name": "stdout",
          "text": [
            "3\n",
            "True\n"
          ]
        }
      ]
    },
    {
      "cell_type": "markdown",
      "source": [
        "Boolean3. Дано целое число A. Проверить истинность высказывания: «Число A\n",
        "является четным».\n"
      ],
      "metadata": {
        "id": "VTBBYwrstGqM"
      }
    },
    {
      "cell_type": "code",
      "source": [
        "A = int(input())\n",
        "print(A % 2 == 0)"
      ],
      "metadata": {
        "colab": {
          "base_uri": "https://localhost:8080/"
        },
        "id": "cTMxjv67syFz",
        "outputId": "25e03c8a-40d7-459f-db7f-f13a4ed03664"
      },
      "execution_count": 67,
      "outputs": [
        {
          "output_type": "stream",
          "name": "stdout",
          "text": [
            "0\n",
            "True\n"
          ]
        }
      ]
    },
    {
      "cell_type": "markdown",
      "source": [
        "Boolean4. Даны два целых числа: A, B. Проверить истинность высказывания:\n",
        "«Справедливы неравенства A > 2 и B  3».\n"
      ],
      "metadata": {
        "id": "ZUK-BohftItL"
      }
    },
    {
      "cell_type": "code",
      "source": [
        "A = int(input())\n",
        "B = int(input())\n",
        "print(A > 2 and B <= 3)"
      ],
      "metadata": {
        "colab": {
          "base_uri": "https://localhost:8080/"
        },
        "id": "KtlK5C5lsx3Z",
        "outputId": "63278aa6-794a-4375-c05e-9f9ea6846840"
      },
      "execution_count": 68,
      "outputs": [
        {
          "output_type": "stream",
          "name": "stdout",
          "text": [
            "-90\n",
            "1\n",
            "False\n"
          ]
        }
      ]
    },
    {
      "cell_type": "markdown",
      "source": [
        "Boolean5. Даны два целых числа: A, B. Проверить истинность высказывания:\n",
        "«Справедливы неравенства A  0 или B < –2».\n"
      ],
      "metadata": {
        "id": "GJvHkVLwtL1c"
      }
    },
    {
      "cell_type": "code",
      "source": [
        "A = int(input())\n",
        "B = int(input())\n",
        "print(A >= 0 or B < -2)"
      ],
      "metadata": {
        "colab": {
          "base_uri": "https://localhost:8080/"
        },
        "id": "IwC0aqREsxlQ",
        "outputId": "b123a961-9585-4af5-d818-6c92f4bfecf3"
      },
      "execution_count": 69,
      "outputs": [
        {
          "output_type": "stream",
          "name": "stdout",
          "text": [
            "4\n",
            "77\n",
            "True\n"
          ]
        }
      ]
    },
    {
      "cell_type": "markdown",
      "source": [
        "**Раздел If**\n"
      ],
      "metadata": {
        "id": "aTJrZ2c6juLZ"
      }
    },
    {
      "cell_type": "markdown",
      "source": [
        "If17. Даны три переменные вещественного типа: A, B, C. Если их значения упо- рядочены по возрастанию или убыванию, то удвоить их; в противном слу- чае заменить значение каждой переменной на противоположное. Вывести новые значения переменных A, B, C.\n"
      ],
      "metadata": {
        "id": "0IVOiObIt1KB"
      }
    },
    {
      "cell_type": "code",
      "source": [
        "A = float(input())\n",
        "B = float(input())\n",
        "C = float(input())\n",
        "if (A <= B <= C) or (A >= B >= C):\n",
        "    print(2 * A, 2 * B, 2 * C)\n",
        "else:\n",
        "    print(-A, -B, -C)"
      ],
      "metadata": {
        "colab": {
          "base_uri": "https://localhost:8080/"
        },
        "id": "dbY_4S_At1uT",
        "outputId": "8059ed28-505a-4416-ed66-9f73e418e79b"
      },
      "execution_count": 70,
      "outputs": [
        {
          "output_type": "stream",
          "name": "stdout",
          "text": [
            "1\n",
            "1\n",
            "2\n",
            "2.0 2.0 4.0\n"
          ]
        }
      ]
    },
    {
      "cell_type": "markdown",
      "source": [
        "If18. Даны три целых числа, одно из которых отлично от двух других, равных между собой. Определить порядковый номер числа, отличного от осталь- ных.\n"
      ],
      "metadata": {
        "id": "r7tL2GNVt2Ey"
      }
    },
    {
      "cell_type": "code",
      "source": [
        "A = int(input())\n",
        "B = int(input())\n",
        "C = int(input())\n",
        "if A == B:\n",
        "    print(3)\n",
        "elif A == C:\n",
        "    print(2)\n",
        "else:\n",
        "    print(1)"
      ],
      "metadata": {
        "colab": {
          "base_uri": "https://localhost:8080/"
        },
        "id": "SzrwOuP9t2YX",
        "outputId": "d75a3fe2-eaae-4335-8d6f-92d3189f8097"
      },
      "execution_count": 71,
      "outputs": [
        {
          "output_type": "stream",
          "name": "stdout",
          "text": [
            "3\n",
            "2\n",
            "10\n",
            "1\n"
          ]
        }
      ]
    },
    {
      "cell_type": "markdown",
      "source": [
        "If19. Даны четыре целых числа, одно из которых отлично от трех других, рав- ных между собой. Определить порядковый номер числа, отличного от ос- тальных.\n"
      ],
      "metadata": {
        "id": "B0x3la8Qt2z3"
      }
    },
    {
      "cell_type": "code",
      "source": [
        "A = int(input())\n",
        "B = int(input())\n",
        "C = int(input())\n",
        "D = int(input())\n",
        "if A == B == C:\n",
        "    print(4)\n",
        "elif A == B == D:\n",
        "    print(3)\n",
        "elif A == C == D:\n",
        "    print(2)\n",
        "else:\n",
        "    print(1)"
      ],
      "metadata": {
        "colab": {
          "base_uri": "https://localhost:8080/"
        },
        "id": "Is2Inu_Rt3GT",
        "outputId": "d68f5637-3eb3-4809-e28f-7df9d21301e0"
      },
      "execution_count": 72,
      "outputs": [
        {
          "output_type": "stream",
          "name": "stdout",
          "text": [
            "0\n",
            "10\n",
            "20\n",
            "30\n",
            "1\n"
          ]
        }
      ]
    },
    {
      "cell_type": "markdown",
      "source": [
        "If20. На числовой оси расположены три точки: A, B, C. Определить, какая из двух последних точек (B или C) расположена ближе к A, и вывести эту точ- ку и ее расстояние от точки A.\n"
      ],
      "metadata": {
        "id": "dUrk2p9wt3ZU"
      }
    },
    {
      "cell_type": "code",
      "source": [
        "A = float(input())\n",
        "B = float(input())\n",
        "C = float(input())\n",
        "dist_B = abs(B - A)\n",
        "dist_C = abs(C - A)\n",
        "if dist_B < dist_C:\n",
        "    print(f\"{B} {dist_B}\")\n",
        "else:\n",
        "    print(f\"{C} {dist_C}\")"
      ],
      "metadata": {
        "colab": {
          "base_uri": "https://localhost:8080/"
        },
        "id": "u72KNwi8t3sm",
        "outputId": "a77a0adb-733e-4050-a3cc-04157b8e790e"
      },
      "execution_count": 73,
      "outputs": [
        {
          "output_type": "stream",
          "name": "stdout",
          "text": [
            "99\n",
            "66\n",
            "00\n",
            "66.0 33.0\n"
          ]
        }
      ]
    },
    {
      "cell_type": "markdown",
      "source": [
        "If21. Даны целочисленные координаты точки на плоскости. Если точка совпа- дает с началом координат, то вывести 0. Если точка не совпадает с началом координат, но лежит на оси OX или OY, то вывести соответственно 1 или 2. Если точка не лежит на координатных осях, то вывести 3.\n"
      ],
      "metadata": {
        "id": "jiVvr9got4iC"
      }
    },
    {
      "cell_type": "code",
      "source": [
        "x = int(input())\n",
        "y = int(input())\n",
        "if x == 0 and y == 0:\n",
        "    print(0)\n",
        "elif x == 0:\n",
        "    print(1)\n",
        "elif y == 0:\n",
        "    print(2)\n",
        "else:\n",
        "    print(3)"
      ],
      "metadata": {
        "colab": {
          "base_uri": "https://localhost:8080/"
        },
        "id": "3o24Peedt43g",
        "outputId": "36879d79-a507-48e9-a2e9-158ee8573bf8"
      },
      "execution_count": 74,
      "outputs": [
        {
          "output_type": "stream",
          "name": "stdout",
          "text": [
            "1\n",
            "0\n",
            "2\n"
          ]
        }
      ]
    },
    {
      "cell_type": "markdown",
      "source": [
        "**Раздел** **For**"
      ],
      "metadata": {
        "id": "LbD6Ao84teoh"
      }
    },
    {
      "cell_type": "markdown",
      "source": [
        "For5. Дано вещественное число — цена 1 кг конфет. Вывести стоимость 0.1, 0.2, …, 1 кг конфет.\n"
      ],
      "metadata": {
        "id": "MpVn6kYlud4N"
      }
    },
    {
      "cell_type": "code",
      "source": [
        "price_per_kg = float(input())\n",
        "for i in range(1, 11):\n",
        "    weight = i / 10\n",
        "    cost = price_per_kg * weight\n",
        "    print(cost)"
      ],
      "metadata": {
        "colab": {
          "base_uri": "https://localhost:8080/"
        },
        "id": "Cj_x1tfNueMX",
        "outputId": "665bd3fa-222d-41f4-f866-cbc7a9a19351"
      },
      "execution_count": 75,
      "outputs": [
        {
          "output_type": "stream",
          "name": "stdout",
          "text": [
            "33\n",
            "3.3000000000000003\n",
            "6.6000000000000005\n",
            "9.9\n",
            "13.200000000000001\n",
            "16.5\n",
            "19.8\n",
            "23.099999999999998\n",
            "26.400000000000002\n",
            "29.7\n",
            "33.0\n"
          ]
        }
      ]
    },
    {
      "cell_type": "markdown",
      "source": [
        "For10. Дано целое число N (> 0). Найти сумму\n",
        "1 + 1/2 + 1/3 + … + 1/N\n"
      ],
      "metadata": {
        "id": "MvqBV6cuueb7"
      }
    },
    {
      "cell_type": "code",
      "source": [
        "N = int(input())\n",
        "summation = 0\n",
        "for i in range(1, N + 1):\n",
        "    summation += 1 / i\n",
        "print(summation)"
      ],
      "metadata": {
        "colab": {
          "base_uri": "https://localhost:8080/"
        },
        "id": "lCXM61hTueuq",
        "outputId": "6e93a9cf-814a-4c3d-b3ef-798b3b88f539"
      },
      "execution_count": 76,
      "outputs": [
        {
          "output_type": "stream",
          "name": "stdout",
          "text": [
            "999\n",
            "7.484470860550343\n"
          ]
        }
      ]
    },
    {
      "cell_type": "markdown",
      "source": [
        "For15. Дано вещественное число A и целое число N (> 0). Найти A в степени N:\n",
        "AN = A·A· … ·A"
      ],
      "metadata": {
        "id": "i3BjIJWque7n"
      }
    },
    {
      "cell_type": "code",
      "source": [
        "A = float(input())\n",
        "N = int(input())\n",
        "result = A ** N\n",
        "print(result)"
      ],
      "metadata": {
        "colab": {
          "base_uri": "https://localhost:8080/"
        },
        "id": "JsntzO1oufPN",
        "outputId": "693dc4b0-00bc-4715-ab80-a5b5615df8a3"
      },
      "execution_count": 77,
      "outputs": [
        {
          "output_type": "stream",
          "name": "stdout",
          "text": [
            "1\n",
            "1\n",
            "1.0\n"
          ]
        }
      ]
    },
    {
      "cell_type": "markdown",
      "source": [
        "For38. Дано целое число N (> 0). Найти сумму 1N + 2N–1 + … + N1. Чтобы избе- жать целочисленного переполнения, вычислять слагаемые этой суммы с помощью вещественной переменной и выводить результат как веществен- ное число.\n"
      ],
      "metadata": {
        "id": "sD2U-ViUugKR"
      }
    },
    {
      "cell_type": "code",
      "source": [
        "N = int(input())\n",
        "total_sum = 0\n",
        "for i in range(N, 0, -1):\n",
        "    total_sum += i ** (N - i + 1)\n",
        "print(total_sum)"
      ],
      "metadata": {
        "colab": {
          "base_uri": "https://localhost:8080/"
        },
        "id": "wGIHist2ugb_",
        "outputId": "c37b0002-c4a6-46d0-bbda-af0bcf91b2ca"
      },
      "execution_count": 78,
      "outputs": [
        {
          "output_type": "stream",
          "name": "stdout",
          "text": [
            "2\n",
            "3\n"
          ]
        }
      ]
    },
    {
      "cell_type": "markdown",
      "source": [
        "For40. Даны целые числа A и B (A < B). Вывести все целые числа от A до B включительно; при этом число A должно выводиться 1 раз, число A + 1 должно выводиться 2 раза и т. д."
      ],
      "metadata": {
        "id": "IpIC-JPFugwB"
      }
    },
    {
      "cell_type": "code",
      "source": [
        "A = int(input())\n",
        "B = int(input())\n",
        "for i in range(A, B + 1):\n",
        "    for _ in range(i - A + 1):\n",
        "        print(i)"
      ],
      "metadata": {
        "colab": {
          "base_uri": "https://localhost:8080/"
        },
        "id": "OK_FEDJKuhC4",
        "outputId": "86a8cf81-e07b-44e8-ffaa-240c215b8063"
      },
      "execution_count": 79,
      "outputs": [
        {
          "name": "stdout",
          "output_type": "stream",
          "text": [
            "7\n",
            "1\n"
          ]
        }
      ]
    },
    {
      "cell_type": "markdown",
      "source": [
        "**Раздел While**"
      ],
      "metadata": {
        "id": "Y8QLbbt1n8Z1"
      }
    },
    {
      "cell_type": "markdown",
      "source": [
        "While1. Даны положительные числа A и B (A > B). На отрезке длины A разме- щено максимально возможное количество отрезков длины B (без наложе- ний). Не используя операции умножения и деления, найти длину незанятой части отрезка A.\n"
      ],
      "metadata": {
        "id": "QkYmQqgrrAeg"
      }
    },
    {
      "cell_type": "code",
      "source": [
        "A = int(input())\n",
        "B = int(input())\n",
        "r = A\n",
        "while r >= B:\n",
        "    r -= B\n",
        "print(r)"
      ],
      "metadata": {
        "colab": {
          "base_uri": "https://localhost:8080/"
        },
        "id": "ZMgx7S-bn5Vu",
        "outputId": "0c4534f5-b8a9-4897-f354-2cf68783fbb1"
      },
      "execution_count": 59,
      "outputs": [
        {
          "output_type": "stream",
          "name": "stdout",
          "text": [
            "10\n",
            "11\n",
            "10\n"
          ]
        }
      ]
    },
    {
      "cell_type": "markdown",
      "source": [
        "While3. Даны целые положительные числа N и K. Используя только операции сложения и вычитания, найти частное от деления нацело N на K, а также остаток от этого деления.\n"
      ],
      "metadata": {
        "id": "Wxe4j8bovSxB"
      }
    },
    {
      "cell_type": "code",
      "source": [
        "N = int(input())\n",
        "K = int(input())\n",
        "q = 0\n",
        "r = N\n",
        "while r >= K:\n",
        "    q += 1\n",
        "    r -= K\n",
        "print(q, r)"
      ],
      "metadata": {
        "colab": {
          "base_uri": "https://localhost:8080/"
        },
        "id": "7ZhMSrCOvTEC",
        "outputId": "5c7abfc9-2a0a-453b-bfcf-3fff4d970af6"
      },
      "execution_count": 80,
      "outputs": [
        {
          "output_type": "stream",
          "name": "stdout",
          "text": [
            "1\n",
            "2\n",
            "0 1\n"
          ]
        }
      ]
    },
    {
      "cell_type": "markdown",
      "source": [
        "While7. Дано целое число N (> 0). Найти наименьшее целое положительное число K, квадрат которого превосходит N: K2 > N. Функцию извлечения квадратного корня не использовать.\n"
      ],
      "metadata": {
        "id": "I79BPTQ8vTZz"
      }
    },
    {
      "cell_type": "code",
      "source": [
        "N = int(input())\n",
        "K = 1\n",
        "while K * K <= N:\n",
        "    K += 1\n",
        "print(K)"
      ],
      "metadata": {
        "colab": {
          "base_uri": "https://localhost:8080/"
        },
        "id": "KfZfxhwovTws",
        "outputId": "6f179471-3e6b-4e87-ee6b-9bb4821dfc3a"
      },
      "execution_count": 81,
      "outputs": [
        {
          "output_type": "stream",
          "name": "stdout",
          "text": [
            "9\n",
            "4\n"
          ]
        }
      ]
    },
    {
      "cell_type": "markdown",
      "source": [
        "While14. Дано число A (> 1). Вывести наибольшее из целых чисел K, для кото- рых сумма 1 + 1/2 + … + 1/K будет меньше A, и саму эту сумму.\n"
      ],
      "metadata": {
        "id": "QnTqYDTEvUvD"
      }
    },
    {
      "cell_type": "code",
      "source": [
        "A = float(input())\n",
        "K = 1\n",
        "summation = 0\n",
        "while summation + 1 / (K + 1) < A:\n",
        "    K += 1\n",
        "    summation += 1 / K\n",
        "print(K, summation)"
      ],
      "metadata": {
        "colab": {
          "base_uri": "https://localhost:8080/"
        },
        "id": "H9Xu5ig8vVAe",
        "outputId": "1623170b-1068-4d89-a844-bc802078f0e9"
      },
      "execution_count": 83,
      "outputs": [
        {
          "output_type": "stream",
          "name": "stdout",
          "text": [
            "1\n",
            "3 0.8333333333333333\n"
          ]
        }
      ]
    },
    {
      "cell_type": "markdown",
      "source": [
        "While22. Дано целое число N (> 1). Если оно является простым, то есть не имеет положительных делителей, кроме 1 и самого себя, то вывести True, иначе вывести False.\n"
      ],
      "metadata": {
        "id": "aP6wC7drvVQL"
      }
    },
    {
      "cell_type": "code",
      "source": [
        "N = int(input())\n",
        "is_prime = True\n",
        "i = 2\n",
        "while i * i <= N:\n",
        "    if N % i == 0:\n",
        "        is_prime = False\n",
        "        break\n",
        "    i += 1\n",
        "print(is_prime)"
      ],
      "metadata": {
        "colab": {
          "base_uri": "https://localhost:8080/"
        },
        "id": "j7GuRqH8vVi5",
        "outputId": "5ad6b8f4-6809-419f-ece0-7e0235a4db0b"
      },
      "execution_count": 84,
      "outputs": [
        {
          "output_type": "stream",
          "name": "stdout",
          "text": [
            "9\n",
            "False\n"
          ]
        }
      ]
    },
    {
      "cell_type": "code",
      "source": [],
      "metadata": {
        "id": "DlEtzL7_wl9T"
      },
      "execution_count": null,
      "outputs": []
    }
  ]
}