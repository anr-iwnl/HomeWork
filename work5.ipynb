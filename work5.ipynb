{
  "nbformat": 4,
  "nbformat_minor": 0,
  "metadata": {
    "colab": {
      "provenance": [],
      "authorship_tag": "ABX9TyPnORN45yBFN/6iRFQi99B3",
      "include_colab_link": true
    },
    "kernelspec": {
      "name": "python3",
      "display_name": "Python 3"
    },
    "language_info": {
      "name": "python"
    }
  },
  "cells": [
    {
      "cell_type": "markdown",
      "metadata": {
        "id": "view-in-github",
        "colab_type": "text"
      },
      "source": [
        "<a href=\"https://colab.research.google.com/github/anr-iwnl/HomeWork/blob/main/work5.ipynb\" target=\"_parent\"><img src=\"https://colab.research.google.com/assets/colab-badge.svg\" alt=\"Open In Colab\"/></a>"
      ]
    },
    {
      "cell_type": "markdown",
      "source": [
        "Array6. Даны целые числа N (> 2), A и B. Сформировать и вывести целочислен- ный массив размера N, первый элемент которого равен A, второй равен B, а каждый последующий элемент равен сумме всех предыдущих.\n"
      ],
      "metadata": {
        "id": "lXC9O3JMgDrn"
      }
    },
    {
      "cell_type": "code",
      "source": [
        "def create_array(N, A, B):\n",
        "    arr = [A, B]\n",
        "    for _ in range(2, N):\n",
        "        arr.append(sum(arr))\n",
        "    return arr\n",
        "\n",
        "N = int(input())\n",
        "A = int(input())\n",
        "B = int(input())\n",
        "result = create_array(N, A, B)\n",
        "print(*result)"
      ],
      "metadata": {
        "colab": {
          "base_uri": "https://localhost:8080/"
        },
        "id": "3Oqh4W8BnvF9",
        "outputId": "ed6f0f6d-9387-47a4-c2a2-e26af8bcf443"
      },
      "execution_count": 17,
      "outputs": [
        {
          "output_type": "stream",
          "name": "stdout",
          "text": [
            "7\n",
            "2\n",
            "5\n",
            "2 5 7 14 28 56 112\n"
          ]
        }
      ]
    },
    {
      "cell_type": "markdown",
      "source": [
        "Array12. Дан массив A размера N (N — четное число). Вывести его элементы с четными номерами в порядке возрастания номеров: A2, A4, A6, …, AN. Условный оператор не использовать.\n"
      ],
      "metadata": {
        "id": "72VHgWI0gDzY"
      }
    },
    {
      "cell_type": "code",
      "source": [
        "n = int(input())\n",
        "a = list(map(int, input().split()))\n",
        "even_elements = a[1::2]\n",
        "print(*even_elements)"
      ],
      "metadata": {
        "colab": {
          "base_uri": "https://localhost:8080/"
        },
        "id": "l5ssm2FNn2oV",
        "outputId": "dae2f12e-116b-427d-e6b6-10dbf68525fe"
      },
      "execution_count": 20,
      "outputs": [
        {
          "output_type": "stream",
          "name": "stdout",
          "text": [
            "1\n",
            "2\n",
            "\n"
          ]
        }
      ]
    },
    {
      "cell_type": "markdown",
      "source": [
        "Array26. Дан целочисленный массив размера N. Проверить, чередуются ли в нем четные и нечетные числа. Если чередуются, то вывести 0, если нет, то вывести порядковый номер первого элемента, нарушающего закономер- ность.\n"
      ],
      "metadata": {
        "id": "6HsI_h7mgD8N"
      }
    },
    {
      "cell_type": "code",
      "source": [
        "n = int(input())\n",
        "arr = list(map(int, input().split()))\n",
        "for i in range(n - 1):\n",
        "    if (arr[i] % 2 == arr[i + 1] % 2):\n",
        "        print(i + 1)\n",
        "        break\n",
        "else:\n",
        "    print(0)"
      ],
      "metadata": {
        "colab": {
          "base_uri": "https://localhost:8080/"
        },
        "id": "W8AbZExMn_j2",
        "outputId": "dd553bd7-8aa1-4e3d-b273-3368efa025b2"
      },
      "execution_count": 19,
      "outputs": [
        {
          "output_type": "stream",
          "name": "stdout",
          "text": [
            "1\n",
            "2\n",
            "0\n"
          ]
        }
      ]
    },
    {
      "cell_type": "markdown",
      "source": [
        "Array29. Дан массив A размера N. Найти максимальный элемент из его элемен- тов с нечетными номерами: A1, A3, A5, … ."
      ],
      "metadata": {
        "id": "aVCQ0ZlGgEFV"
      }
    },
    {
      "cell_type": "code",
      "source": [
        "n = int(input())\n",
        "a = list(map(int, input().split()))\n",
        "max_value = max(a[::2])\n",
        "print(max_value)"
      ],
      "metadata": {
        "colab": {
          "base_uri": "https://localhost:8080/"
        },
        "id": "nu__DMxtoZHC",
        "outputId": "c5e4040c-1c75-420e-82c0-15496fafc29f"
      },
      "execution_count": 21,
      "outputs": [
        {
          "output_type": "stream",
          "name": "stdout",
          "text": [
            "10\n",
            "5\n",
            "5\n"
          ]
        }
      ]
    },
    {
      "cell_type": "markdown",
      "source": [
        "Array51. Даны массивы A и B одинакового размера N. Поменять местами их со- держимое и вывести вначале элементы преобразованного массива A, а за- тем — элементы преобразованного массива B.\n"
      ],
      "metadata": {
        "id": "GUO3vRYhgEMf"
      }
    },
    {
      "cell_type": "code",
      "source": [
        "n = int(input())\n",
        "a = list(map(int, input().split()))\n",
        "b = list(map(int, input().split()))\n",
        "\n",
        "a, b = b, a\n",
        "\n",
        "print(*a)\n",
        "print(*b)"
      ],
      "metadata": {
        "colab": {
          "base_uri": "https://localhost:8080/"
        },
        "id": "aXqKUHSGosCz",
        "outputId": "4ca20873-55f0-4adb-fed1-127f5a89249d"
      },
      "execution_count": 22,
      "outputs": [
        {
          "output_type": "stream",
          "name": "stdout",
          "text": [
            "33\n",
            "2\n",
            "14\n",
            "14\n",
            "2\n"
          ]
        }
      ]
    },
    {
      "cell_type": "markdown",
      "source": [
        "Matrix4. Даны целые положительные числа M, N и набор из N чисел. Сформировать матрицу размера M * N, у которой в каждой строке содержатся все числа из исходного набора (в том же порядке)."
      ],
      "metadata": {
        "id": "oTLw-LSDs21a"
      }
    },
    {
      "cell_type": "code",
      "source": [
        "m = int(input())\n",
        "n = int(input())\n",
        "numbers = list(map(int, input().split()))\n",
        "matrix = [numbers[:] for _ in range(m)]\n",
        "for row in matrix:\n",
        "    print(*row)"
      ],
      "metadata": {
        "colab": {
          "base_uri": "https://localhost:8080/"
        },
        "id": "bgnrh5W4tDxt",
        "outputId": "a59cdf11-fe11-4e8c-d263-ac82f69b1e02"
      },
      "execution_count": 35,
      "outputs": [
        {
          "output_type": "stream",
          "name": "stdout",
          "text": [
            "3\n",
            "4\n",
            "1\n",
            "1\n",
            "1\n",
            "1\n"
          ]
        }
      ]
    },
    {
      "cell_type": "markdown",
      "source": [
        "Matrix12. Дана матрица размера M * N. Вывести ее элементы в следующем порядке: первый столбец сверху вниз, второй столбец снизу вверх, третий столбец сверху вниз, четвертый столбец снизу вверх и т. д."
      ],
      "metadata": {
        "id": "DQSll8xFs2vU"
      }
    },
    {
      "cell_type": "code",
      "source": [
        "m = int(input())\n",
        "n = int(input())\n",
        "matrix = [[int(j) for j in input().split()] for _ in range(m)]\n",
        "\n",
        "for col in range(n):\n",
        "    if col % 2 == 0:\n",
        "        for row in range(m):\n",
        "            print(matrix[row][col], end=' ')\n",
        "    else:\n",
        "        for row in range(m - 1, -1, -1):\n",
        "            print(matrix[row][col], end=' ')"
      ],
      "metadata": {
        "colab": {
          "base_uri": "https://localhost:8080/"
        },
        "id": "omGYQ-Ovtoaq",
        "outputId": "8d5ce2e8-468a-446c-cde7-424a28492f13"
      },
      "execution_count": 40,
      "outputs": [
        {
          "output_type": "stream",
          "name": "stdout",
          "text": [
            "4\n",
            "3\n",
            "1 2 3 4 \n",
            "5 6  7 8\n",
            "9 10 11 12\n",
            "13 14 15 16\n",
            "1 5 9 13 14 10 6 2 3 7 11 15 "
          ]
        }
      ]
    },
    {
      "cell_type": "markdown",
      "source": [
        "Matrix23. Дана матрица размера M * N. В каждой строке матрицы найти минимальный элемент."
      ],
      "metadata": {
        "id": "psj9rsYFs2hL"
      }
    },
    {
      "cell_type": "code",
      "source": [
        "matrix = [[3, 5, 1], [8, 2, 7], [4, 9, 6]]\n",
        "mins = [min(row) for row in matrix]\n",
        "print(mins)"
      ],
      "metadata": {
        "colab": {
          "base_uri": "https://localhost:8080/"
        },
        "id": "fY7PpgJxt6zl",
        "outputId": "8c3a1a13-c2d5-4ba3-847b-3e4be207100d"
      },
      "execution_count": 41,
      "outputs": [
        {
          "output_type": "stream",
          "name": "stdout",
          "text": [
            "[1, 2, 4]\n"
          ]
        }
      ]
    },
    {
      "cell_type": "markdown",
      "source": [
        "Matrix51. Дана матрица размера M * N. Поменять местами строки, содержащие минимальный и максимальный элементы матрицы."
      ],
      "metadata": {
        "id": "Wo3iczhjs2Yf"
      }
    },
    {
      "cell_type": "code",
      "source": [
        "def swap_min_max_rows(matrix):\n",
        "    m, n = len(matrix), len(matrix[0])\n",
        "    min_row_idx = max_row_idx = None\n",
        "\n",
        "    for i in range(m):\n",
        "        if min_row_idx is None or min(matrix[min_row_idx]) > min(matrix[i]):\n",
        "            min_row_idx = i\n",
        "\n",
        "        if max_row_idx is None or max(matrix[max_row_idx]) < max(matrix[i]):\n",
        "            max_row_idx = i\n",
        "\n",
        "    matrix[min_row_idx], matrix[max_row_idx] = matrix[max_row_idx], matrix[min_row_idx]\n",
        "\n",
        "M, N = map(int, input().split())\n",
        "matrix = [list(map(int, input().split())) for _ in range(M)]\n",
        "swap_min_max_rows(matrix)\n",
        "for row in matrix:\n",
        "    print(*row)"
      ],
      "metadata": {
        "colab": {
          "base_uri": "https://localhost:8080/"
        },
        "id": "HAFws7lYt97p",
        "outputId": "d407ccc7-ccad-4267-e35a-ff4d5deb0ec9"
      },
      "execution_count": 42,
      "outputs": [
        {
          "output_type": "stream",
          "name": "stdout",
          "text": [
            "3 3\n",
            "1 2 3\n",
            "4 5 6\n",
            "7 8 9\n",
            "7 8 9\n",
            "4 5 6\n",
            "1 2 3\n"
          ]
        }
      ]
    },
    {
      "cell_type": "markdown",
      "source": [
        "Matrix90. Дана квадратная матрица порядка M. Обнулить элементы матрицы, лежащие на побочной диагонали и ниже нее. Условный оператор не использовать."
      ],
      "metadata": {
        "id": "UKw9P4NLs2NF"
      }
    },
    {
      "cell_type": "code",
      "source": [
        "def zero_below_secondary_diagonal(matrix):\n",
        "    n = len(matrix)\n",
        "    for i in range(n):\n",
        "        for j in range(i + 1):\n",
        "            matrix[i][n - 1 - j] = 0\n",
        "m = int(input())\n",
        "matrix = [list(map(int, input().split())) for _ in range(m)]\n",
        "zero_below_secondary_diagonal(matrix)\n",
        "for row in matrix:\n",
        "    print(*row)"
      ],
      "metadata": {
        "colab": {
          "base_uri": "https://localhost:8080/"
        },
        "id": "a6hiVOiUuE7y",
        "outputId": "71861ee3-5213-4ace-f370-8c8b9693febf"
      },
      "execution_count": 44,
      "outputs": [
        {
          "output_type": "stream",
          "name": "stdout",
          "text": [
            "4\n",
            "1 2 3 4\n",
            "5 6 7 8\n",
            "9 10 11 12\n",
            "13 14 15 16\n",
            "1 2 3 0\n",
            "5 6 0 0\n",
            "9 0 0 0\n",
            "0 0 0 0\n"
          ]
        }
      ]
    }
  ]
}